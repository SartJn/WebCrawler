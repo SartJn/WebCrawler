{
 "cells": [
  {
   "cell_type": "code",
   "execution_count": 5,
   "metadata": {},
   "outputs": [],
   "source": [
    "from telegram.ext import Updater, CommandHandler, MessageHandler, filters\n",
    "import logging\n"
   ]
  },
  {
   "cell_type": "code",
   "execution_count": null,
   "metadata": {},
   "outputs": [],
   "source": [
    "class InfoBot:\n",
    "    def __init__(self, token):\n",
    "        self.updater = Updater(token=token, use_context=True)\n",
    "        self.dispatcher = self.updater.dispatcher\n",
    "        \n",
    "        # Set up basic logging\n",
    "        logging.basicConfig(format='%(asctime)s - %(name)s - %(levelname)s - %(message)s',\n",
    "                          level=logging.INFO)\n",
    "        \n",
    "        # Add handlers\n",
    "        self.dispatcher.add_handler(CommandHandler(\"start\", self.start))\n",
    "        self.dispatcher.add_handler(MessageHandler(filters.TEXT & ~filters.COMMAND, self.handle_message))\n",
    "    \n",
    "    def start(self, update, context):\n",
    "        update.message.reply_text('Hello! Please provide a name to search for public information.')\n",
    "    \n",
    "    def handle_message(self, update, context):\n",
    "        # Process input and initiate search\n",
    "        query = update.message.text\n",
    "        results = self.search_public_info(query)\n",
    "        update.message.reply_text(results)\n",
    "\n",
    "    def run(self):\n",
    "        self.updater.start_polling()\n",
    "        self.updater.idle()"
   ]
  }
 ],
 "metadata": {
  "kernelspec": {
   "display_name": "Python 3",
   "language": "python",
   "name": "python3"
  },
  "language_info": {
   "codemirror_mode": {
    "name": "ipython",
    "version": 3
   },
   "file_extension": ".py",
   "mimetype": "text/x-python",
   "name": "python",
   "nbconvert_exporter": "python",
   "pygments_lexer": "ipython3",
   "version": "3.12.5"
  }
 },
 "nbformat": 4,
 "nbformat_minor": 2
}
